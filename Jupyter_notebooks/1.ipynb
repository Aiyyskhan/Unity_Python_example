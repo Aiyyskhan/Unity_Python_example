{
 "cells": [
  {
   "cell_type": "code",
   "execution_count": 1,
   "metadata": {},
   "outputs": [],
   "source": [
    "import numpy as np\n",
    "import mlagents"
   ]
  },
  {
   "cell_type": "code",
   "execution_count": null,
   "metadata": {},
   "outputs": [],
   "source": [
    "# !pip install mlagents_envs==0.18"
   ]
  },
  {
   "cell_type": "code",
   "execution_count": 2,
   "metadata": {},
   "outputs": [],
   "source": [
    "from mlagents_envs.environment import UnityEnvironment\n",
    "# from mlagents.envs.environment import UnityEnvironment"
   ]
  },
  {
   "cell_type": "code",
   "execution_count": 3,
   "metadata": {},
   "outputs": [],
   "source": [
    "# -----------------\n",
    "# This code is used to close an env that might not have been closed before\n",
    "try:\n",
    "  env.close()\n",
    "except:\n",
    "  pass\n",
    "# -----------------"
   ]
  },
  {
   "cell_type": "code",
   "execution_count": 4,
   "metadata": {},
   "outputs": [],
   "source": [
    "# env = UnityEnvironment(base_port=5004, file_name=\"Ex_3\")\n",
    "env = UnityEnvironment(file_name=\"Ex_1\")"
   ]
  },
  {
   "cell_type": "code",
   "execution_count": null,
   "metadata": {},
   "outputs": [],
   "source": [
    "# env = UnityEnvironment(file_name=None)"
   ]
  },
  {
   "cell_type": "code",
   "execution_count": 12,
   "metadata": {},
   "outputs": [],
   "source": [
    "env.reset()"
   ]
  },
  {
   "cell_type": "code",
   "execution_count": 13,
   "metadata": {},
   "outputs": [
    {
     "data": {
      "text/plain": [
       "'0.21.0'"
      ]
     },
     "execution_count": 13,
     "metadata": {},
     "output_type": "execute_result"
    }
   ],
   "source": [
    "import mlagents_envs\n",
    "mlagents_envs.__version__"
   ]
  },
  {
   "cell_type": "code",
   "execution_count": 14,
   "metadata": {},
   "outputs": [
    {
     "data": {
      "text/plain": [
       "'1.2.0'"
      ]
     },
     "execution_count": 14,
     "metadata": {},
     "output_type": "execute_result"
    }
   ],
   "source": [
    "UnityEnvironment.API_VERSION"
   ]
  },
  {
   "cell_type": "code",
   "execution_count": 15,
   "metadata": {},
   "outputs": [
    {
     "name": "stdout",
     "output_type": "stream",
     "text": [
      "\n",
      "                        ▄▄▄▓▓▓▓\n",
      "                   ╓▓▓▓▓▓▓█▓▓▓▓▓\n",
      "              ,▄▄▄m▀▀▀'  ,▓▓▓▀▓▓▄                           ▓▓▓  ▓▓▌\n",
      "            ▄▓▓▓▀'      ▄▓▓▀  ▓▓▓      ▄▄     ▄▄ ,▄▄ ▄▄▄▄   ,▄▄ ▄▓▓▌▄ ▄▄▄    ,▄▄\n",
      "          ▄▓▓▓▀        ▄▓▓▀   ▐▓▓▌     ▓▓▌   ▐▓▓ ▐▓▓▓▀▀▀▓▓▌ ▓▓▓ ▀▓▓▌▀ ^▓▓▌  ╒▓▓▌\n",
      "        ▄▓▓▓▓▓▄▄▄▄▄▄▄▄▓▓▓      ▓▀      ▓▓▌   ▐▓▓ ▐▓▓    ▓▓▓ ▓▓▓  ▓▓▌   ▐▓▓▄ ▓▓▌\n",
      "        ▀▓▓▓▓▀▀▀▀▀▀▀▀▀▀▓▓▄     ▓▓      ▓▓▌   ▐▓▓ ▐▓▓    ▓▓▓ ▓▓▓  ▓▓▌    ▐▓▓▐▓▓\n",
      "          ^█▓▓▓        ▀▓▓▄   ▐▓▓▌     ▓▓▓▓▄▓▓▓▓ ▐▓▓    ▓▓▓ ▓▓▓  ▓▓▓▄    ▓▓▓▓`\n",
      "            '▀▓▓▓▄      ^▓▓▓  ▓▓▓       └▀▀▀▀ ▀▀ ^▀▀    `▀▀ `▀▀   '▀▀    ▐▓▓▌\n",
      "               ▀▀▀▀▓▄▄▄   ▓▓▓▓▓▓,                                      ▓▓▓▓▀\n",
      "                   `▀█▓▓▓▓▓▓▓▓▓▌\n",
      "                        ¬`▀▀▀█▓\n",
      "        \n"
     ]
    }
   ],
   "source": [
    "print(\n",
    "            \"\"\"\n",
    "                        ▄▄▄▓▓▓▓\n",
    "                   ╓▓▓▓▓▓▓█▓▓▓▓▓\n",
    "              ,▄▄▄m▀▀▀'  ,▓▓▓▀▓▓▄                           ▓▓▓  ▓▓▌\n",
    "            ▄▓▓▓▀'      ▄▓▓▀  ▓▓▓      ▄▄     ▄▄ ,▄▄ ▄▄▄▄   ,▄▄ ▄▓▓▌▄ ▄▄▄    ,▄▄\n",
    "          ▄▓▓▓▀        ▄▓▓▀   ▐▓▓▌     ▓▓▌   ▐▓▓ ▐▓▓▓▀▀▀▓▓▌ ▓▓▓ ▀▓▓▌▀ ^▓▓▌  ╒▓▓▌\n",
    "        ▄▓▓▓▓▓▄▄▄▄▄▄▄▄▓▓▓      ▓▀      ▓▓▌   ▐▓▓ ▐▓▓    ▓▓▓ ▓▓▓  ▓▓▌   ▐▓▓▄ ▓▓▌\n",
    "        ▀▓▓▓▓▀▀▀▀▀▀▀▀▀▀▓▓▄     ▓▓      ▓▓▌   ▐▓▓ ▐▓▓    ▓▓▓ ▓▓▓  ▓▓▌    ▐▓▓▐▓▓\n",
    "          ^█▓▓▓        ▀▓▓▄   ▐▓▓▌     ▓▓▓▓▄▓▓▓▓ ▐▓▓    ▓▓▓ ▓▓▓  ▓▓▓▄    ▓▓▓▓`\n",
    "            '▀▓▓▓▄      ^▓▓▓  ▓▓▓       └▀▀▀▀ ▀▀ ^▀▀    `▀▀ `▀▀   '▀▀    ▐▓▓▌\n",
    "               ▀▀▀▀▓▄▄▄   ▓▓▓▓▓▓,                                      ▓▓▓▓▀\n",
    "                   `▀█▓▓▓▓▓▓▓▓▓▌\n",
    "                        ¬`▀▀▀█▓\n",
    "        \"\"\"\n",
    "        )"
   ]
  },
  {
   "cell_type": "code",
   "execution_count": 6,
   "metadata": {},
   "outputs": [
    {
     "name": "stdout",
     "output_type": "stream",
     "text": [
      "Name of the behavior : RollerBall?team=0\n",
      "Number of observations :  1\n"
     ]
    }
   ],
   "source": [
    "behavior_name = list(env.behavior_specs)[0]\n",
    "print(f\"Name of the behavior : {behavior_name}\")\n",
    "spec = env.behavior_specs[behavior_name]\n",
    "print(\"Number of observations : \", len(spec.observation_shapes))"
   ]
  },
  {
   "cell_type": "code",
   "execution_count": 7,
   "metadata": {},
   "outputs": [
    {
     "name": "stdout",
     "output_type": "stream",
     "text": [
      "The action is continuous\n"
     ]
    }
   ],
   "source": [
    "if spec.is_action_continuous():\n",
    "  print(\"The action is continuous\")\n",
    "\n",
    "if spec.is_action_discrete():\n",
    "  print(\"The action is discrete\")"
   ]
  },
  {
   "cell_type": "code",
   "execution_count": 16,
   "metadata": {},
   "outputs": [
    {
     "name": "stdout",
     "output_type": "stream",
     "text": [
      "[array([[-0.10476637,  0.6998782 , -2.1831665 ,  0.        ,  1.2264562 ,\n",
      "         0.        ,  0.        ,  0.        ],\n",
      "       [-3.044877  ,  0.6998782 , -0.94662094,  0.        ,  1.2264562 ,\n",
      "         0.        ,  0.        ,  0.        ],\n",
      "       [-1.2635422 ,  0.6998782 , -2.3515887 ,  0.        ,  1.2264562 ,\n",
      "         0.        ,  0.        ,  0.        ],\n",
      "       [ 1.7887778 ,  0.6998782 , -2.6688704 ,  0.        ,  1.2264562 ,\n",
      "         0.        ,  0.        ,  0.        ],\n",
      "       [ 2.3408632 ,  0.6998782 ,  2.8742561 ,  0.        ,  1.2264562 ,\n",
      "         0.        ,  0.        ,  0.        ],\n",
      "       [-0.2863555 ,  0.6998782 ,  3.2122574 ,  0.        ,  1.2264562 ,\n",
      "         0.        ,  0.        ,  0.        ],\n",
      "       [ 2.4407253 ,  0.6998782 , -0.7812004 ,  0.        ,  1.2264562 ,\n",
      "         0.        ,  0.        ,  0.        ],\n",
      "       [-2.941883  ,  0.6998782 , -3.044704  ,  0.        ,  1.2264562 ,\n",
      "         0.        ,  0.        ,  0.        ],\n",
      "       [-1.4332628 ,  0.6998782 , -0.14195251,  0.        ,  1.2264562 ,\n",
      "         0.        ,  0.        ,  0.        ],\n",
      "       [-0.8810458 ,  0.6998782 , -1.8724289 ,  0.        ,  1.2264562 ,\n",
      "         0.        ,  0.        ,  0.        ],\n",
      "       [ 2.8680944 ,  0.6998782 ,  1.7427464 ,  0.        ,  1.2264562 ,\n",
      "         0.        ,  0.        ,  0.        ],\n",
      "       [-3.8835392 ,  0.6998782 ,  2.514883  ,  0.        ,  1.2264562 ,\n",
      "         0.        ,  0.        ,  0.        ],\n",
      "       [-1.0488997 ,  0.6998782 , -3.899187  ,  0.        ,  1.2264562 ,\n",
      "         0.        ,  0.        ,  0.        ],\n",
      "       [-3.0275412 ,  0.6998782 , -0.22712326,  0.        ,  1.2264562 ,\n",
      "         0.        ,  0.        ,  0.        ],\n",
      "       [ 1.1271782 ,  0.6998782 , -1.2645721 ,  0.        ,  1.2264562 ,\n",
      "         0.        ,  0.        ,  0.        ],\n",
      "       [ 1.5178146 ,  0.6998782 , -1.6744862 ,  0.        ,  1.2264562 ,\n",
      "         0.        ,  0.        ,  0.        ]], dtype=float32)]\n"
     ]
    }
   ],
   "source": [
    "decision_steps, terminal_steps = env.get_steps(behavior_name)\n",
    "print(decision_steps.obs)"
   ]
  },
  {
   "cell_type": "code",
   "execution_count": 9,
   "metadata": {},
   "outputs": [
    {
     "data": {
      "text/plain": [
       "16"
      ]
     },
     "execution_count": 9,
     "metadata": {},
     "output_type": "execute_result"
    }
   ],
   "source": [
    "len(decision_steps.obs[0])"
   ]
  },
  {
   "cell_type": "code",
   "execution_count": 17,
   "metadata": {},
   "outputs": [],
   "source": [
    "env.reset()"
   ]
  },
  {
   "cell_type": "code",
   "execution_count": null,
   "metadata": {},
   "outputs": [],
   "source": []
  }
 ],
 "metadata": {
  "kernelspec": {
   "display_name": "Python 3",
   "language": "python",
   "name": "python3"
  },
  "language_info": {
   "codemirror_mode": {
    "name": "ipython",
    "version": 3
   },
   "file_extension": ".py",
   "mimetype": "text/x-python",
   "name": "python",
   "nbconvert_exporter": "python",
   "pygments_lexer": "ipython3",
   "version": "3.6.9"
  }
 },
 "nbformat": 4,
 "nbformat_minor": 4
}
